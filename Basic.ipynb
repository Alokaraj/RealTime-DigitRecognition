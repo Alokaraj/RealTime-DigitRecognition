{
 "cells": [
  {
   "cell_type": "code",
   "execution_count": 104,
   "metadata": {},
   "outputs": [],
   "source": [
    "# By suryaveer @IIT Indore\n",
    "# GITHUB: https://github.com/surya-veer\n",
    "\n",
    "import warnings\n",
    "warnings.filterwarnings('ignore')\n",
    "\n",
    "import pandas as pd\n",
    "import numpy as np\n",
    "from sklearn.svm import SVC\n",
    "from sklearn.cross_validation import train_test_split\n",
    "from sklearn import preprocessing,datasets\n",
    "from sklearn.neighbors import KNeighborsClassifier\n",
    "from sklearn.externals import joblib\n",
    "from scipy import misc\n",
    "import cv2\n",
    "import matplotlib.pyplot as plt\n",
    "from sklearn.preprocessing import StandardScaler\n",
    "\n",
    "file_name = 'models/filename.pkl'\n",
    "\n",
    "IS_TRIAN = False\n",
    "# scaler = joblib.load('models/scaler.pkl')"
   ]
  },
  {
   "cell_type": "code",
   "execution_count": 105,
   "metadata": {},
   "outputs": [],
   "source": [
    "if(IS_TRIAN==True):\n",
    "    digits = datasets.load_digits()  \n",
    "    #print(digits.images.dtype) #for getting data type of image which is float64 \n",
    "    X = digits.data\n",
    "    scaler.fit(X)\n",
    "    X = scaler.transform(X)\n",
    "    Y = digits.target\n",
    "#     clf = SVC(gamma =.001,C= 10)\n",
    "    clf = KNeighborsClassifier(n_neighbors=10)\n",
    "    clf.fit(X,Y)\n",
    "    joblib.dump(clf, file_name)\n",
    "    \n",
    "clf = joblib.load(file_name)"
   ]
  },
  {
   "cell_type": "code",
   "execution_count": 147,
   "metadata": {},
   "outputs": [],
   "source": [
    "def check(img):\n",
    "    #imverting the image\n",
    "    img = misc.imread('1.png')\n",
    "    img = 1 -cv2.cvtColor(img, cv2.COLOR_BGR2GRAY)/255\n",
    "    \n",
    "    #resizing image into 8X8 matrix\n",
    "    img = misc.imresize(img,(28,28))\n",
    "#     img = img.astype('float64')\n",
    "    \n",
    "    #changing byte scale from 16 to 0 according to imput data\n",
    "#     img = misc.bytescale(img,high=16,low=0)\n",
    "    \n",
    "    # uncomment if you want to see the image\n",
    "    plt.imshow(img, cmap=plt.cm.gray_r, interpolation='nearest')\n",
    "    \n",
    "    flat_img = img.reshape(1,784)\n",
    "    flat_img = scaler.transform(flat_img)\n",
    "#     print(flat_img)\n",
    "    result = clf.predict(flat_img)\n",
    "    return result"
   ]
  },
  {
   "cell_type": "code",
   "execution_count": 149,
   "metadata": {},
   "outputs": [
    {
     "name": "stdout",
     "output_type": "stream",
     "text": [
      "[7]\n"
     ]
    },
    {
     "data": {
      "image/png": "[encoded data removed]",
      "text/plain": [
       "<matplotlib.figure.Figure at 0x7fb14beee828>"
      ]
     },
     "metadata": {},
     "output_type": "display_data"
    }
   ],
   "source": [
    "img = misc.imread('1.png')\n",
    "# print(img)\n",
    "print(check(img))"
   ]
  },
  {
   "cell_type": "code",
   "execution_count": null,
   "metadata": {},
   "outputs": [],
   "source": []
  },
  {
   "cell_type": "code",
   "execution_count": null,
   "metadata": {},
   "outputs": [],
   "source": []
  }
 ],
 "metadata": {
  "kernelspec": {
   "display_name": "Python 3",
   "language": "python",
   "name": "python3"
  },
  "language_info": {
   "codemirror_mode": {
    "name": "ipython",
    "version": 3
   },
   "file_extension": ".py",
   "mimetype": "text/x-python",
   "name": "python",
   "nbconvert_exporter": "python",
   "pygments_lexer": "ipython3",
   "version": "3.6.2"
  }
 },
 "nbformat": 4,
 "nbformat_minor": 2
}
